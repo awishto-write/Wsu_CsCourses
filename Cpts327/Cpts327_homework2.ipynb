{
 "cells": [
  {
   "cell_type": "code",
   "execution_count": 11,
   "metadata": {},
   "outputs": [
    {
     "name": "stdout",
     "output_type": "stream",
     "text": [
      "Binary representation: b'q\\x197Y\\xab\\x1fx\\\\\\xa5k\\xaf\\xdd\\xccI\\xc5\\x186\\xd8\\xd7\\nL\\xee\\xea\\xf1\\x0c\\x96\\xf0y\\x86$\\xd6:\\n\\xff\\xcd\\x13 \\xb1#\\x0eo\\xde\\\\\\x0f%\\xe1{\\xd9\\xa5\\x8f\\x14\\xe7\\xff~\\x04\\xbbk\\x84*\\xf1\\xe6\\x90\\xe9\\xa6'\n",
      "Binary representation of string: 01110001000110010011011101011001101010110001111101111000010111001010010101101011101011111101110111001100010010011100010100011000001101101101100011010111000010100100110011101110111010101111000100001100100101101111000001111001100001100010010011010110001110100000101011111111110011010001001100100000101100010010001100001110011011111101111001011100000011110010010111100001011110111101100110100101100011110001010011100111111111110111111000000100101110110110101110000100001010101111000111100110100100001110100110100110\n",
      "English message(plain text): q\u00197Y«\u001fx\\¥k¯ÝÌIÅ\u00186Ø×\n",
      "Lîêñ\fðy$Ö:\n",
      "ÿÍ\u0013 ±#\u000eoÞ\\\u000f%á{Ù¥\u0014çÿ~\u0004»k*ñæé¦\n"
     ]
    }
   ],
   "source": [
    "import os\n",
    "import hashlib\n",
    "import base64\n",
    "\n",
    "def key_generation():\n",
    "    r = os.urandom(1)\n",
    "    secret_key = r + bytes([0b01100110, 0b01100110, 0b01100110, 0b01100110, 0b01100110, 0b01100110, 0b01100110, 0b01100110, 0b01100110, 0b01100110, 0b01100110, 0b01100110, 0b01100110, 0b01100110, 0b01100110])\n",
    "    #print (\"s\",secret_key)\n",
    "    secret_key_str = ''.join(format(byte, '08b') for byte in secret_key)\n",
    "    return secret_key_str\n",
    "\n",
    "def sha3(input_data):\n",
    "    #print(\"test\",input_data.encode(\"latin-1\"))\n",
    "    sha3_hash = hashlib.sha3_256(input_data.encode(\"latin-1\")).digest()\n",
    "    #print ((sha3_hash))\n",
    "    return sha3_hash\n",
    "\n",
    "def words_to_binary(words):\n",
    "    binary_result = ''.join(format(ord(char), '08b') for word in words for char in (word + ' '))\n",
    "   \n",
    "    # Ensure the message space is exactly 512 bits\n",
    "    if len(binary_result) != 512:\n",
    "        print(\"Warning: The message length is not equal to 512 bits. It will be truncated or padded.\")\n",
    "   \n",
    "    # Truncate or pad to ensure a 512-bit message space\n",
    "    binary_result = binary_result[:512].ljust(512, '0')  \n",
    "   \n",
    "    return binary_result\n",
    "\n",
    "def binary_to_string(binary_data):\n",
    "    return ''.join(chr(int(binary_data[i:i+8], 2)) for i in range(0, len(binary_data), 8))\n",
    "\n",
    "def encrypt(message, secret_key):\n",
    "    sha3_result = sha3(secret_key)\n",
    "    S1 = sha3_result[:16]\n",
    "    S2 = sha3_result[16:]\n",
    "    #print (len(S1))\n",
    "    #print(\"r\",S1,S2)\n",
    "    S1 = S1.decode(\"latin-1\")\n",
    "    S2 = S2.decode(\"latin-1\")\n",
    "    S1 = sha3(S1)\n",
    "    S2 = sha3(S2)\n",
    "   # print(\"rstar\",S1+S2)\n",
    "    message_bytes = bytes(int(message[i:i+8], 2) for i in range(0, len(message), 8))\n",
    "    #print (\"m\",message_bytes)\n",
    "    ciphertext = bytes(x ^ y for x, y in zip(S1 + S2, message_bytes))\n",
    "    ciphertext_base64 = base64.b64encode(ciphertext).decode('utf-8')\n",
    "    #print(len(message_bytes))\n",
    "    return ciphertext_base64\n",
    "\n",
    "\n",
    "secret_key = key_generation()\n",
    "\n",
    "\n",
    "# english_words = input(\"Enter English words for the message (e.g., 'hello world'): \").split()\n",
    "# message = words_to_binary(english_words)\n",
    "# ciphertext_str = encrypt(message, secret_key)\n",
    "\n",
    "# secret_key_str = binary_to_string(secret_key)\n",
    "\n",
    "\n",
    "# print(\"Message (String):\", binary_to_string(message))\n",
    "# print(\"Secret Key (String):\", secret_key_str)\n",
    "# print(\"Ciphertext (Base64 encoded String):\", ciphertext_str)\n",
    "\n",
    "#\n",
    "\n",
    "def decode_ciphertext(ciphertext_base64):\n",
    "    \n",
    "    ciphertext_binary_bytes = base64.b64decode(ciphertext_base64) # Get the base 64 of binary bytes of the decoded ciphertext provided\n",
    "    # Convert that binary bytes into the desired binary({0,1} form) in 8bits character\n",
    "    binary_string = ''.join(format(byte, '08b') for byte in ciphertext_binary_bytes) \n",
    "    \n",
    "    print(\"Binary representation:\", ciphertext_binary_bytes) # Visualization of ciphertext_binary_bytes\n",
    "    print(\"Binary representation of string:\", binary_string) # Visualization of binary_string\n",
    "\n",
    "    plaintext_message = binary_to_string(binary_string) # Convert the binary form into the plaintext message\n",
    "    \n",
    "    return plaintext_message # Return the message\n",
    "\n",
    "                # Derivation of the plaintex from my cipher1.txt file\n",
    "ciphertext_base64 = \"cRk3WasfeFyla6/dzEnFGDbY1wpM7urxDJbweYYk1joK/80TILEjDm/eXA8l4XvZpY8U5/9+BLtrhCrx5pDppg==\"  # The ciphertext from my cipherX.txt file\n",
    "plaintext_message = decode_ciphertext(ciphertext_base64) # Get the plaintext\n",
    "print(\"English message(plain text):\", plaintext_message)  # Print the plaintext\n"
   ]
  },
  {
   "cell_type": "code",
   "execution_count": null,
   "metadata": {
    "collapsed": true
   },
   "outputs": [],
   "source": []
  },
  {
   "cell_type": "code",
   "execution_count": null,
   "metadata": {
    "collapsed": true
   },
   "outputs": [],
   "source": []
  }
 ],
 "metadata": {
  "kernelspec": {
   "display_name": "Python 3",
   "language": "python",
   "name": "python3"
  },
  "language_info": {
   "codemirror_mode": {
    "name": "ipython",
    "version": 3
   },
   "file_extension": ".py",
   "mimetype": "text/x-python",
   "name": "python",
   "nbconvert_exporter": "python",
   "pygments_lexer": "ipython3",
   "version": "3.10.5"
  }
 },
 "nbformat": 4,
 "nbformat_minor": 2
}
