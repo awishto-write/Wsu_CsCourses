{
  "cells": [
    {
      "cell_type": "markdown",
      "metadata": {
        "id": "lKTtGXYUaZmM"
      },
      "source": [
        "# **CPT_S 315 HW3-Coding: User-User Collaborative Filtering (40 points)**\n",
        "In this homework, you are required to implement user-user collaborative filtering algorithm and return top N recommendated movies."
      ]
    },
    {
      "cell_type": "markdown",
      "metadata": {
        "id": "VS-nKioGdDHW"
      },
      "source": [
        "### **Requirements:**\n",
        "Please download the ``files hw_3.ipynb``, and ``ml-100k.zip`` from Canvas and complete the codes in hw_3.ipynb following the instructions in the file. You can run and debug your codes using Google Colab. After completing the tasks, save hw_3.ipynb as hw_3.py by clicking File -> Download -> Download .py. Then upload hw_3.py to Gradescope. The autograder on Gradescope will automatically grade your coding homework."
      ]
    },
    {
      "cell_type": "code",
      "execution_count": 2,
      "metadata": {
        "colab": {
          "base_uri": "https://localhost:8080/",
          "height": 73
        },
        "id": "WROCaaGhddzz",
        "outputId": "46eee9b4-bd03-48b2-ff5f-6cd97da6cd48"
      },
      "outputs": [
        {
          "output_type": "display_data",
          "data": {
            "text/plain": [
              "<IPython.core.display.HTML object>"
            ],
            "text/html": [
              "\n",
              "     <input type=\"file\" id=\"files-733ce820-3f72-410c-a8a6-b2970d022ed6\" name=\"files[]\" multiple disabled\n",
              "        style=\"border:none\" />\n",
              "     <output id=\"result-733ce820-3f72-410c-a8a6-b2970d022ed6\">\n",
              "      Upload widget is only available when the cell has been executed in the\n",
              "      current browser session. Please rerun this cell to enable.\n",
              "      </output>\n",
              "      <script>// Copyright 2017 Google LLC\n",
              "//\n",
              "// Licensed under the Apache License, Version 2.0 (the \"License\");\n",
              "// you may not use this file except in compliance with the License.\n",
              "// You may obtain a copy of the License at\n",
              "//\n",
              "//      http://www.apache.org/licenses/LICENSE-2.0\n",
              "//\n",
              "// Unless required by applicable law or agreed to in writing, software\n",
              "// distributed under the License is distributed on an \"AS IS\" BASIS,\n",
              "// WITHOUT WARRANTIES OR CONDITIONS OF ANY KIND, either express or implied.\n",
              "// See the License for the specific language governing permissions and\n",
              "// limitations under the License.\n",
              "\n",
              "/**\n",
              " * @fileoverview Helpers for google.colab Python module.\n",
              " */\n",
              "(function(scope) {\n",
              "function span(text, styleAttributes = {}) {\n",
              "  const element = document.createElement('span');\n",
              "  element.textContent = text;\n",
              "  for (const key of Object.keys(styleAttributes)) {\n",
              "    element.style[key] = styleAttributes[key];\n",
              "  }\n",
              "  return element;\n",
              "}\n",
              "\n",
              "// Max number of bytes which will be uploaded at a time.\n",
              "const MAX_PAYLOAD_SIZE = 100 * 1024;\n",
              "\n",
              "function _uploadFiles(inputId, outputId) {\n",
              "  const steps = uploadFilesStep(inputId, outputId);\n",
              "  const outputElement = document.getElementById(outputId);\n",
              "  // Cache steps on the outputElement to make it available for the next call\n",
              "  // to uploadFilesContinue from Python.\n",
              "  outputElement.steps = steps;\n",
              "\n",
              "  return _uploadFilesContinue(outputId);\n",
              "}\n",
              "\n",
              "// This is roughly an async generator (not supported in the browser yet),\n",
              "// where there are multiple asynchronous steps and the Python side is going\n",
              "// to poll for completion of each step.\n",
              "// This uses a Promise to block the python side on completion of each step,\n",
              "// then passes the result of the previous step as the input to the next step.\n",
              "function _uploadFilesContinue(outputId) {\n",
              "  const outputElement = document.getElementById(outputId);\n",
              "  const steps = outputElement.steps;\n",
              "\n",
              "  const next = steps.next(outputElement.lastPromiseValue);\n",
              "  return Promise.resolve(next.value.promise).then((value) => {\n",
              "    // Cache the last promise value to make it available to the next\n",
              "    // step of the generator.\n",
              "    outputElement.lastPromiseValue = value;\n",
              "    return next.value.response;\n",
              "  });\n",
              "}\n",
              "\n",
              "/**\n",
              " * Generator function which is called between each async step of the upload\n",
              " * process.\n",
              " * @param {string} inputId Element ID of the input file picker element.\n",
              " * @param {string} outputId Element ID of the output display.\n",
              " * @return {!Iterable<!Object>} Iterable of next steps.\n",
              " */\n",
              "function* uploadFilesStep(inputId, outputId) {\n",
              "  const inputElement = document.getElementById(inputId);\n",
              "  inputElement.disabled = false;\n",
              "\n",
              "  const outputElement = document.getElementById(outputId);\n",
              "  outputElement.innerHTML = '';\n",
              "\n",
              "  const pickedPromise = new Promise((resolve) => {\n",
              "    inputElement.addEventListener('change', (e) => {\n",
              "      resolve(e.target.files);\n",
              "    });\n",
              "  });\n",
              "\n",
              "  const cancel = document.createElement('button');\n",
              "  inputElement.parentElement.appendChild(cancel);\n",
              "  cancel.textContent = 'Cancel upload';\n",
              "  const cancelPromise = new Promise((resolve) => {\n",
              "    cancel.onclick = () => {\n",
              "      resolve(null);\n",
              "    };\n",
              "  });\n",
              "\n",
              "  // Wait for the user to pick the files.\n",
              "  const files = yield {\n",
              "    promise: Promise.race([pickedPromise, cancelPromise]),\n",
              "    response: {\n",
              "      action: 'starting',\n",
              "    }\n",
              "  };\n",
              "\n",
              "  cancel.remove();\n",
              "\n",
              "  // Disable the input element since further picks are not allowed.\n",
              "  inputElement.disabled = true;\n",
              "\n",
              "  if (!files) {\n",
              "    return {\n",
              "      response: {\n",
              "        action: 'complete',\n",
              "      }\n",
              "    };\n",
              "  }\n",
              "\n",
              "  for (const file of files) {\n",
              "    const li = document.createElement('li');\n",
              "    li.append(span(file.name, {fontWeight: 'bold'}));\n",
              "    li.append(span(\n",
              "        `(${file.type || 'n/a'}) - ${file.size} bytes, ` +\n",
              "        `last modified: ${\n",
              "            file.lastModifiedDate ? file.lastModifiedDate.toLocaleDateString() :\n",
              "                                    'n/a'} - `));\n",
              "    const percent = span('0% done');\n",
              "    li.appendChild(percent);\n",
              "\n",
              "    outputElement.appendChild(li);\n",
              "\n",
              "    const fileDataPromise = new Promise((resolve) => {\n",
              "      const reader = new FileReader();\n",
              "      reader.onload = (e) => {\n",
              "        resolve(e.target.result);\n",
              "      };\n",
              "      reader.readAsArrayBuffer(file);\n",
              "    });\n",
              "    // Wait for the data to be ready.\n",
              "    let fileData = yield {\n",
              "      promise: fileDataPromise,\n",
              "      response: {\n",
              "        action: 'continue',\n",
              "      }\n",
              "    };\n",
              "\n",
              "    // Use a chunked sending to avoid message size limits. See b/62115660.\n",
              "    let position = 0;\n",
              "    do {\n",
              "      const length = Math.min(fileData.byteLength - position, MAX_PAYLOAD_SIZE);\n",
              "      const chunk = new Uint8Array(fileData, position, length);\n",
              "      position += length;\n",
              "\n",
              "      const base64 = btoa(String.fromCharCode.apply(null, chunk));\n",
              "      yield {\n",
              "        response: {\n",
              "          action: 'append',\n",
              "          file: file.name,\n",
              "          data: base64,\n",
              "        },\n",
              "      };\n",
              "\n",
              "      let percentDone = fileData.byteLength === 0 ?\n",
              "          100 :\n",
              "          Math.round((position / fileData.byteLength) * 100);\n",
              "      percent.textContent = `${percentDone}% done`;\n",
              "\n",
              "    } while (position < fileData.byteLength);\n",
              "  }\n",
              "\n",
              "  // All done.\n",
              "  yield {\n",
              "    response: {\n",
              "      action: 'complete',\n",
              "    }\n",
              "  };\n",
              "}\n",
              "\n",
              "scope.google = scope.google || {};\n",
              "scope.google.colab = scope.google.colab || {};\n",
              "scope.google.colab._files = {\n",
              "  _uploadFiles,\n",
              "  _uploadFilesContinue,\n",
              "};\n",
              "})(self);\n",
              "</script> "
            ]
          },
          "metadata": {}
        },
        {
          "output_type": "stream",
          "name": "stdout",
          "text": [
            "Saving ml-100k.zip to ml-100k.zip\n"
          ]
        }
      ],
      "source": [
        "# We first need to upload the file \"ml-latest-small.zip\" downloaded from Canvas\n",
        "try:\n",
        "    from google.colab import files\n",
        "    uploaded = files.upload()\n",
        "except ImportError as e:\n",
        "    pass"
      ]
    },
    {
      "cell_type": "markdown",
      "metadata": {
        "id": "UHCWaQphd1V5"
      },
      "source": [
        "# Introduction\n",
        "\n",
        "In some cells and files you will see code blocks that look like this:\n",
        "\n",
        "```python\n",
        "##############################################################################\n",
        "#                    TODO: Write the equation for a line                     #\n",
        "##############################################################################\n",
        "raise NotImplementedError()\n",
        "##############################################################################\n",
        "#                              END OF YOUR CODE                              #\n",
        "##############################################################################\n",
        "```\n",
        "\n",
        "You should replace the \"raise NotImplementedError()\"  with your own code and leave the blocks intact, like this:\n",
        "\n",
        "```python\n",
        "##############################################################################\n",
        "#                    TODO: Write the equation for a line                     #\n",
        "##############################################################################\n",
        "y = m * x + b\n",
        "##############################################################################\n",
        "#                              END OF YOUR CODE                              #\n",
        "##############################################################################\n",
        "```\n",
        "\n",
        "## **When completing the notebook, please adhere to the following rules:**\n",
        " - **Do not modify any code outside of code blocks.**\n",
        " - **You can create your own customer functions.**\n",
        " - **Do not add or delete any cells from the notebook. You may add new cells to perform scatch work, but delete them before submitting.**\n",
        " - **Make sure you run all the pre-defined functiosn before testing.**\n",
        " - **Make sure at least you pass all the testing cases before submitting.**\n",
        " - **Common packages are available, for example: sklearn, scipy, pandas, numpy. Please contact the introductors if you need to use other packages**\n",
        "\n",
        "\n",
        "### **You will only get credit for code that has been run!**.\n",
        "\n",
        "### **We will not re-run your notebook -- you will get your credits automatically on Gradescope**"
      ]
    },
    {
      "cell_type": "markdown",
      "metadata": {
        "id": "MimT-0TiehzJ"
      },
      "source": [
        "## **User-User Collaborative Filtering**"
      ]
    },
    {
      "cell_type": "code",
      "execution_count": 1,
      "metadata": {
        "id": "VhoaYHHvez9b"
      },
      "outputs": [],
      "source": [
        "# This cell provides some useful functions for generating the utility matrix.\n",
        "from sklearn.neighbors import NearestNeighbors\n",
        "from sklearn.preprocessing import LabelEncoder\n",
        "from scipy.sparse import csr_matrix\n",
        "import os\n",
        "import pandas as pd\n",
        "import numpy as np\n",
        "import zipfile\n",
        "import urllib.request\n",
        "import sys\n",
        "\n",
        "def unzip(name):\n",
        "    with zipfile.ZipFile(name, 'r') as data:\n",
        "        data.extractall()\n",
        "\n",
        "class ml100k:\n",
        "    @staticmethod\n",
        "    def load():\n",
        "        name = 'ml-100k'\n",
        "        unzip(f\"{name}.zip\")\n",
        "        ratings_path = os.path.join(name, 'u.data')\n",
        "        ratings = pd.read_csv(\n",
        "            ratings_path,\n",
        "            sep='\\t',\n",
        "            names=[\"userid\", \"itemid\", \"rating\", \"timestamp\"],\n",
        "        )\n",
        "        ratings = ratings.sort_values(by=['userid', 'itemid']).reset_index(drop=True)\n",
        "        ratings = ratings.drop(columns=['timestamp'])\n",
        "\n",
        "        movies_columns = [\n",
        "            'itemid', 'title', 'release date', 'video release date',\n",
        "            'IMDb URL ', 'unknown', 'Action', 'Adventure', 'Animation',\n",
        "            \"Children's\", 'Comedy' , 'Crime' , 'Documentary' , 'Drama' , 'Fantasy' ,\n",
        "            'Film-Noir', 'Horror', 'Musical' , 'Mystery' , 'Romance' , 'Sci-Fi' ,\n",
        "            'Thriller' , 'War' , 'Western' ,\n",
        "        ]\n",
        "\n",
        "        movies_path = os.path.join(name, 'u.item')\n",
        "        movies = pd.read_csv(\n",
        "            movies_path,\n",
        "            sep='|',\n",
        "            names=movies_columns,\n",
        "            encoding='latin-1',\n",
        "        )\n",
        "        # drop non necessary columns. From the third to the last column\n",
        "        todrop = list(range(2, len(movies.columns)))\n",
        "        movies = movies.drop(movies.columns[todrop], axis=1)\n",
        "\n",
        "        return ratings, movies\n",
        "\n",
        "def ids_encoder(ratings):\n",
        "    users = sorted(ratings['userid'].unique())\n",
        "    items = sorted(ratings['itemid'].unique())\n",
        "\n",
        "    # create users and items encoders\n",
        "    uencoder = LabelEncoder()\n",
        "    iencoder = LabelEncoder()\n",
        "\n",
        "    # fit users and items ids to the corresponding encoder\n",
        "    uencoder.fit(users)\n",
        "    iencoder.fit(items)\n",
        "\n",
        "    # encode userids and itemids\n",
        "    ratings.userid = uencoder.transform(ratings.userid.tolist())\n",
        "    ratings.itemid = iencoder.transform(ratings.itemid.tolist())\n",
        "    return ratings, uencoder, iencoder\n",
        "\n",
        "def ratings_matrix(ratings):\n",
        "    # return a rating matrix based with filling values\n",
        "    return csr_matrix(pd.crosstab(ratings.userid, ratings.itemid, ratings.rating, aggfunc=sum).fillna(0).values)\n",
        "\n",
        "# Generate utility information\n",
        "def generate_utility_matrix():\n",
        "    ratings, movies = ml100k.load()\n",
        "    ratings, uencoder, iencoder = ids_encoder(ratings)\n",
        "    return ratings\n",
        "\n",
        "def create_model(rating_matrix, metric):\n",
        "    \"\"\"\n",
        "    - create the nearest neighbors model with the corresponding similarity metric\n",
        "    - fit the model\n",
        "    \"\"\"\n",
        "    model = NearestNeighbors(metric=metric, n_neighbors=21, algorithm='brute')\n",
        "    model.fit(rating_matrix)\n",
        "    return model\n",
        "\n",
        "\n",
        "def nearest_neighbors(rating_matrix):\n",
        "    \"\"\"\n",
        "    :param rating_matrix : rating matrix of shape (nb_users, nb_items)\n",
        "    :return\n",
        "        - similarities : distances of the neighbors from the referenced user\n",
        "        - neighbors : neighbors of the referenced user in decreasing order of similarities\n",
        "    \"\"\"\n",
        "    rating_matrix = np.array(rating_matrix)\n",
        "    if rating_matrix.shape != (943, 1682):\n",
        "         raise ValueError(\"Rating Matrix is not of the right shape\")\n",
        "\n",
        "    model = create_model(rating_matrix, metric='cosine')\n",
        "    similarities, neighbors = model.kneighbors(rating_matrix)\n",
        "    return 1 - similarities[:, 1:], neighbors[:, 1:]\n",
        "\n",
        "\n",
        "def find_candidate_items(userid):\n",
        "    \"\"\"\n",
        "    Find candidate items for an active user\n",
        "\n",
        "    :param userid : active user\n",
        "    :param neighbors : users similar to the active user\n",
        "    :return candidates : top 30 of candidate items\n",
        "    \"\"\"\n",
        "    ratings_ = generate_utility_matrix()\n",
        "    R_ = ratings_matrix(ratings_)\n",
        "    ar = R_.toarray()\n",
        "    similarities_, neighbors_ = nearest_neighbors(ar)\n",
        "    user_neighbors = neighbors_[userid]\n",
        "    activities = ratings.loc[ratings_.userid.isin(user_neighbors)]\n",
        "    # sort items in decreasing order of frequency\n",
        "    frequency = activities.groupby('itemid')['rating'].count().reset_index(name='count').sort_values(['count'],ascending=False)\n",
        "    Gu_items = frequency.itemid\n",
        "    active_items = ratings_.loc[ratings.userid == userid].itemid.to_list()\n",
        "    candidates = np.setdiff1d(Gu_items, active_items, assume_unique=True)[:30]\n",
        "\n",
        "    return candidates"
      ]
    },
    {
      "cell_type": "markdown",
      "metadata": {
        "id": "HFUqSYxsIlXE"
      },
      "source": [
        "# 1. User-based Collaborative Filtering"
      ]
    },
    {
      "cell_type": "markdown",
      "metadata": {
        "id": "uU57PDFaIons"
      },
      "source": [
        "## Idea\n",
        "\n",
        "Let $u$ be the user for which we plan to make recommendations.\n",
        "\n",
        "1. Find other users whose past rating behavior is similar to that of $u.$\n",
        "2. Use their ratings on other items to predict what the current user will like."
      ]
    },
    {
      "cell_type": "markdown",
      "metadata": {
        "id": "9NddnoOGIzzC"
      },
      "source": [
        "## Algorithm : user-to-user collaborative filtering\n",
        "\n",
        "The entire process of user-to-user CF algorithm is described as follow <a href=\"https://romisatriawahono.net/lecture/rm/survey/information%20retrieval/Bobadilla%20-%20Recommender%20Systems%20-%202013.pdf\">(J. Bobadilla et al. 2013)</a>: For an active user $u$,\n",
        "\n",
        "<ol>\n",
        "    <li> First identify the set $N_u$ of $k$ most similar users. $N_u$ is the group users similar to the active user $u$. The similarity between two users $u$ and $v$ can be measured by the cosine similarity measure as follows :\n",
        "\n",
        "\\begin{equation}\n",
        " s_{u,v}=\\frac{\\vec{r}_u \\cdot \\vec{r}_v}{\\|\\vec{r}_u\\| \\ast \\|\\vec{r}_v\\|} = \\frac{\\sum_{i\\in I}r_{u,i}r_{v,i}}{\\sqrt{\\sum_{i\\in I} (r_{u,i})^2}\\sqrt{\\sum_{i\\in I} (r_{v,i})^2}}\n",
        "\\end{equation}\n",
        "\n",
        "$s_{u,v}$ is the degree of similarity between users $u$ and $v$. This term is computed for all $v\\in U$, where $U$ is the set of all users. $\\vec{r}_v = [r_{v,1},r_{v,2},\\dots,r_{v,I}]$ is the rating vector of user $v.$ $I$ is the total number of movies in the system. As experimented by <a href=\"https://dl.acm.org/doi/10.1145/3130348.3130372\">(Herlocker et al. 1999)</a>, $k\\in [20,50]$ is a reasonable starting point in many domains. So in this assignment, we select $k=20.$\n",
        "    </li>\n",
        "    <li> Find the set $C$ of candidate items, purchased by the group and not purchased by the active user $u$. Candidate items have to be the most frequent items purchased by the group.\n",
        "    </li>\n",
        "    <li>Aggregate ratings of users in $N_u$ to make predictions for user $u$ on items he has not already purchased. Several aggregation approaches are often used such as <b>average, weighted sum, ajusted weighted sum</b>. By using weighted sum, the predicted rating of user $u$ on item $i$ denoted by $\\hat{r}_{u,i}$ is computed as follow :\n",
        "\n",
        "\\begin{equation}\n",
        " \\hat{r}_{u,i}=\\bar{r}_u + \\frac{\\sum_{v\\in N_u}(r_{v,i}-\\bar{r}_v)\\cdot s_{u,v}}{\\sum_{v\\in N_u}|s_{u,v}|}.\n",
        "\\end{equation}\n",
        "\n",
        "Ratings of similar users are weighted by the corresponding similarity with the active user. Summation are made over all the users who have rated item $i$. Subtracting the user’s mean rating $\\bar{r}_v$ compensates for differences in users’ use of the rating scale as some users will tend to give higher ratings than others <a href=\"https://dl.acm.org/doi/10.1561/1100000009\">(Michael D. Ekstrand, <i>et al.</i> 2011)</a>. This prediction is made for all items $i \\in C$ not purchased by user $u$.\n",
        "    </li>\n",
        "    <li>The Top-$N$ recommendations are obtained by choosing the $N$ items which provide most satisfaction to the user according to prediction.\n",
        "    </li>\n",
        "</ol>"
      ]
    },
    {
      "cell_type": "markdown",
      "metadata": {
        "id": "eZZ5WaB-NC_a"
      },
      "source": [
        "### Step 1. Generate Utility Data"
      ]
    },
    {
      "cell_type": "markdown",
      "metadata": {
        "id": "F4m0PYAqPFmx"
      },
      "source": [
        "There are total $10k$ ratings in the dataset.\n",
        "Runing the function\n",
        "```python\n",
        "ratings = generate_utility_matrix()\n",
        "```\n",
        "will return all the rating information $ratings.$\n",
        "```python\n",
        "\n",
        "```\n",
        "For example if you would like to know the first ten ratings from the first user(userid=0), you will have\n",
        "```python\n",
        "       userid  itemid  rating\n",
        "0           0       0       5\n",
        "1           0       1       3\n",
        "2           0       2       4\n",
        "3           0       3       3\n",
        "4           0       4       3\n",
        "...       ...     ...     ...\n",
        "99995     942    1066       2\n",
        "99996     942    1073       4\n",
        "99997     942    1187       3\n",
        "99998     942    1227       3\n",
        "99999     942    1329       3\n",
        "```\n",
        "If you would like to extract the rating from $userid = 0$ and $itemid = 4,$ you can simply run:\n",
        "```python\n",
        "print(ratings[(ratings.userid == 0) & (ratings.itemid == 4)]['rating'].values[0].astype(float)\n",
        "```\n",
        "### Note that some itemid may never be rated by an user before, the ratings matrix only contains active ratings."
      ]
    },
    {
      "cell_type": "markdown",
      "metadata": {
        "id": "8z6I1G8mLfnR"
      },
      "source": [
        "### Step 2. Identify $N_u$, the set of $k=20$ users similar to an active user $u$"
      ]
    },
    {
      "cell_type": "markdown",
      "metadata": {
        "id": "EPbh7OSLLjil"
      },
      "source": [
        "To find the $k$ most similar users to $u$, we use the cosine similarity and compute $w_{u,v}$ for all $v\\in U$. Fortunately, libraries such as <i>scikit-learn (sklearn)</i> are very useful for such tasks :\n",
        "\n",
        "1. Function ```similarities, neighbors = nearest_neighbors(rating_matrix, model):``` returns the k closed users ```neighbors``` for each user and the associated similarities ```similarities```. We already create this function for you."
      ]
    },
    {
      "cell_type": "markdown",
      "metadata": {
        "id": "qu7ZtHOrpzMG"
      },
      "source": [
        "**Your Answer is needed in the following cell:**"
      ]
    },
    {
      "cell_type": "code",
      "execution_count": null,
      "metadata": {
        "id": "d9V42hEvqHOn"
      },
      "outputs": [],
      "source": [
        "def generate_centered_rating_matrix(ratings):\n",
        "    \"\"\"\n",
        "    Please fill up your implementation.\n",
        "    The input of the function is the original rating matrix \"ratings\" generated by the function \"generate_utility_matrix()\".\n",
        "    The ratings is a pandas dataframe.\n",
        "\n",
        "    Since we have 943 users and 1682 movies in the sytem.\n",
        "\n",
        "    The output matrix should be a numpy array with shape 943 * 1682.\n",
        "    The (i,j) element for the matrix is the centered rating from user i (with userid i) of move j (with itemid j).\n",
        "    All the missing ratings are filling up with value 0.\n",
        "    For the centered rating matrix, for example if the original rating matrix is:\n",
        "    [[ 4 0 0 5 1 0],\n",
        "     [ 5 5 4 0 0 0],\n",
        "     [ 0 0 3 0 0 1]]\n",
        "    Then the centered rating matrix is:\n",
        "    [[ 2/3 0 0 5/3 -7/3 0],\n",
        "     [ 1/3 1/3 -2/3 0 0 0],\n",
        "     [ 0 0 1 0 0 -1]]\n",
        "     Refer to Slide 8 - 1.\n",
        "\n",
        "     Note that: All the missing values remain to be 0. The mean of each row is calculated among all the positive ratings (active ratings).\n",
        "    \"\"\"\n",
        "    ##########################################################################\n",
        "    #                     TODO: Implement this function                      #\n",
        "    ##########################################################################\n",
        "    raise NotImplementedError()\n",
        "    ###########################################################################\n",
        "    #                            END OF YOUR CODE                             #\n",
        "    ###########################################################################\n",
        "    return center_rating_matrix"
      ]
    },
    {
      "cell_type": "code",
      "execution_count": null,
      "metadata": {
        "colab": {
          "base_uri": "https://localhost:8080/"
        },
        "id": "Ah6E2SvuqGO1",
        "outputId": "385f036a-48dc-4814-f8f3-473f11681ef7"
      },
      "outputs": [
        {
          "name": "stdout",
          "output_type": "stream",
          "text": [
            " Testing error is : 1.1464052536472428e-08.\n",
            "YOU PASSED THE TEST!\n"
          ]
        },
        {
          "name": "stderr",
          "output_type": "stream",
          "text": [
            "/tmp/ipykernel_1818053/739971252.py:34: FutureWarning: The provided callable <built-in function sum> is currently using DataFrameGroupBy.sum. In a future version of pandas, the provided callable will be used directly. To keep current behavior pass the string \"sum\" instead.\n",
            "  R = csr_matrix(pd.crosstab(mean_ratings.userid, mean_ratings.itemid, mean_ratings.norm_rating, aggfunc=sum).fillna(0).values)\n"
          ]
        }
      ],
      "source": [
        "#1. Test the centered rating matrix\n",
        "ratings = generate_utility_matrix()\n",
        "centered_rating = generate_centered_rating_matrix(ratings)\n",
        "centered_rating = np.array(centered_rating)\n",
        "\n",
        "r_0 =   [1.38970588 ,-0.61029412,  0.38970588, -0.61029412, -0.61029412 , 1.38970588, 0.38970588, -2.61029412 , 1.38970588 ,-0.61029412]\n",
        "r_15 =  [0.67142857, 0.  ,       0.  ,       0.67142857, 0. ,        0., 0.67142857, 0.67142857 ,0.67142857 ,0. ]\n",
        "r_345 = [ 0.  , 1.70984456, -0.29015544 , 0.70984456,  0. ,  0., -1.29015544 , 0.  ,  0. ,  0. ]\n",
        "\n",
        "r_0_ = centered_rating[0][0:10]\n",
        "r_15_ = centered_rating[15][0:10]\n",
        "r_345_ = centered_rating[345][0:10]\n",
        "\n",
        "r_test = [r_0,r_15,r_345]\n",
        "r_pre = [r_0_,r_15_,r_345_]\n",
        "\n",
        "err = 0\n",
        "for i in range(len(r_test)):\n",
        "  err += np.linalg.norm(r_test[i] - r_pre[i])\n",
        "\n",
        "print (f\" Testing error is : {err}.\")\n",
        "if err >= 0.01:\n",
        "  print(\"DOUBLE CHECK YOUR CALCULATION!\")\n",
        "else:\n",
        "  print(\"YOU PASSED THE TEST!\")"
      ]
    },
    {
      "cell_type": "markdown",
      "metadata": {
        "id": "oeiE3MEceWBl"
      },
      "source": [
        "### Step 3. Rating prediction"
      ]
    },
    {
      "cell_type": "markdown",
      "metadata": {
        "id": "N_DqPgJbeTfU"
      },
      "source": [
        "Now it's time to predict what score the active user $u$ would have given to each of the top-10 candidate items.\n",
        "\n",
        "To predict the score of $u$ on a candidate item $i$ ,we need :\n",
        "1. Similarities between $u$ and all his neighbors $v \\in N_u$ who rated item $i.$\n",
        "2. Normalized ratings of all $v \\in N_u$ on item $i$. The normalized rating of user $v$ on item $i$ is defined by $r_{v,i}-\\bar{r}_v$."
      ]
    },
    {
      "cell_type": "markdown",
      "metadata": {
        "id": "RYjdaIIvgiF-"
      },
      "source": [
        "**Your Answer is needed in the following cell:**\n",
        "\n",
        "1. You need to use function ```predict``` to predict rating between user $u$ and item $i$. Recall that the prediction formula is defined as follow :\n",
        "\n",
        "\\begin{equation}\n",
        " \\hat{r}_{u,i}=\\bar{r}_u + \\frac{\\sum_{v\\in N_u}(r_{v,i}-\\bar{r}_v)\\cdot s_{u,v}}{\\sum_{v\\in G_u}|s_{u,v}|}.\n",
        "\\end{equation}"
      ]
    },
    {
      "cell_type": "markdown",
      "metadata": {
        "id": "2tUJKLKCv6FC"
      },
      "source": [
        "**Your Answer is needed in the following cell:**"
      ]
    },
    {
      "cell_type": "code",
      "execution_count": null,
      "metadata": {
        "id": "rTLbrJveeTAY"
      },
      "outputs": [],
      "source": [
        "#We can obtain the similarity matrix and neighbor matrix using the centered rating matrix.\n",
        "\n",
        "##########################################################################\n",
        "\"\"\"\n",
        "centered_rating = generate_centered_rating_matrix(ratings)\n",
        "similarities, neighbors = nearest_neighbors(centered_rating)\n",
        "\"\"\"\n",
        "##########################################################################\n",
        "\n",
        "\"\"\"\n",
        "The shape of similarities and neighbors are both 943 x 20.\n",
        "It is easy to obtain the closed (most similar) k=20 users for a given user with user_neighbors = neighbors[userid]\n",
        "For example user1_neighbors = neighbors[1] will return the first 20 closed users for the user with userid = 1\n",
        "\n",
        "The returnning list contains all the similar user information (userid) in decreasing order of similarities.\n",
        "Similary, similarities[userid] contains the similarities information between user and its neighbors.\n",
        "\"\"\"\n",
        "\n",
        "def predict(ratings, userid, itemid, similarities, neighbors):\n",
        "    \"\"\"\n",
        "    predict what score userid would have given to itemid.\n",
        "\n",
        "    :param\n",
        "        - userid : user id for which we want to make prediction\n",
        "        - itemid : item id on which we want to make prediction\n",
        "        - similarities: a matrix contains the consin distance between user and its nearest 20 neighbors\n",
        "        - neighbors: a matrix contains the most 20 closed users for each user\n",
        "\n",
        "    :return\n",
        "        - r_hat : predicted rating of user userid on item itemid\n",
        "    \"\"\"\n",
        "\n",
        "    #Obtain neighbors N_u and associated similarity distance s_{u,v}\n",
        "    user_similarities = similarities[userid] #list with size 20\n",
        "    user_neighbors = neighbors[userid] #list with size 20\n",
        "\n",
        "    ##########################################################################\n",
        "    #                     TODO: Implement this function                      #\n",
        "    ##########################################################################\n",
        "    #Something you need to do here\n",
        "    # 1. Get mean rating of user userid\n",
        "    # 2. Find users who rated item 'itemid'\n",
        "    # 3. Find similar users to 'userid' who rated item 'itemid' (userids contained among the users found by last step)\n",
        "    # 4. Obtain similarity distance from user_similarities\n",
        "\n",
        "    raise NotImplementedError()\n",
        "\n",
        "    ###########################################################################\n",
        "    #                            END OF YOUR CODE                             #\n",
        "    ###########################################################################\n",
        "\n",
        "    return r_hat"
      ]
    },
    {
      "cell_type": "code",
      "execution_count": null,
      "metadata": {
        "id": "0TnVDC8BuVXk"
      },
      "outputs": [],
      "source": [
        "#2. Test the prediction for user i and item j\n",
        "\n",
        "ratings = generate_utility_matrix()\n",
        "centered_rating = generate_centered_rating_matrix(ratings)\n",
        "centered_rating = np.array(centered_rating)\n",
        "similarities, neighbors = nearest_neighbors(centered_rating)\n",
        "\n",
        "test_case = [[0,422],[0,567],[0,404],[0,432],[100,257],[100,299],[850,6],[850,281]]\n",
        "test_rating = [3.9486011373999577, 3.7872382581245776, 3.5241429399046993, 4.185430215904166, 3.491834899395883, 2.7749381804874993, 4.042253725491653, 3.50294950957094]\n",
        "pres = []\n",
        "for i in test_case:\n",
        "  r_hat =  predict(ratings, i[0], i[1], similarities, neighbors)\n",
        "  pres.append(r_hat)\n",
        "\n",
        "err = np.linalg.norm(np.array(pres) - np.array(test_rating))\n",
        "print (f\" Testing error is : {err}.\")\n",
        "if err >= 0.01:\n",
        "  print(\"DOUBLE CHECK YOUR CALCULATION!\")\n",
        "else:\n",
        "  print(\"YOU PASSED THE TEST!\")"
      ]
    },
    {
      "cell_type": "markdown",
      "metadata": {
        "id": "eNgSimLh140i"
      },
      "source": [
        "### Step 4. Top-N recommendation\n",
        "\n",
        "Function ```user2userRecommendation(userid, N)``` return the list of Top-N (N<= 20) items in decreasing order of predicted rating for user userid."
      ]
    },
    {
      "cell_type": "markdown",
      "metadata": {
        "id": "H1M2BZr74s5A"
      },
      "source": [
        "**Your Answer is needed in the following cell:**"
      ]
    },
    {
      "cell_type": "code",
      "execution_count": null,
      "metadata": {
        "id": "Ohai91Et3uZm"
      },
      "outputs": [],
      "source": [
        "def user2userRecommendation(ratings, userid: int, N : int):\n",
        "    \"\"\"\n",
        "    Recommend movies to user (id = userid)\n",
        "    :param\n",
        "        - userid : user id for which we want to make prediction\n",
        "    :return\n",
        "        - r_list : list of recommended itemids\n",
        "    \"\"\"\n",
        "    # find candidate items for the active user\n",
        "    # You need to recommend movies from the set of candidates\n",
        "    # candidates is a list of all the ponential items that can be recommended to user (id=userid)\n",
        "    candidates = find_candidate_items(userid)\n",
        "    ##########################################################################\n",
        "    #                     TODO: Implement this function                      #\n",
        "    ##########################################################################\n",
        "    raise NotImplementedError()\n",
        "    ###########################################################################\n",
        "    #                            END OF YOUR CODE                             #\n",
        "    ###########################################################################\n",
        "\n",
        "    return r_list"
      ]
    },
    {
      "cell_type": "code",
      "execution_count": null,
      "metadata": {
        "id": "YlOBOiQXKG_3"
      },
      "outputs": [],
      "source": [
        "#3. Test the recommended movie\n",
        "ratings = generate_utility_matrix()\n",
        "test_case = [0,100,850]\n",
        "items_testing = [[317, 356, 473, 650, 654], [14, 257, 272, 312, 1015], [95, 97, 99, 172, 180]]\n",
        "r_movies = []\n",
        "for i in test_case:\n",
        "  toplist = user2userRecommendation(ratings,i,5)\n",
        "  r_movies.append(toplist)\n",
        "\n",
        "for item in r_movies:\n",
        "  if sorted(item) in items_testing:\n",
        "    items_testing.remove(sorted(item))\n",
        "if len(items_testing)==0:\n",
        "  print(\"YOU PASSED THE TEST!\")\n",
        "else:\n",
        "  print(\"DOUBLE CHECK YOUR CALCULATION!\")"
      ]
    }
  ],
  "metadata": {
    "colab": {
      "provenance": []
    },
    "kernelspec": {
      "display_name": "Python 3",
      "name": "python3"
    },
    "language_info": {
      "codemirror_mode": {
        "name": "ipython",
        "version": 3
      },
      "file_extension": ".py",
      "mimetype": "text/x-python",
      "name": "python",
      "nbconvert_exporter": "python",
      "pygments_lexer": "ipython3",
      "version": "3.11.7"
    }
  },
  "nbformat": 4,
  "nbformat_minor": 0
}